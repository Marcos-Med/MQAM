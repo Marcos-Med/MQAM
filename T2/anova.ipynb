{
 "cells": [
  {
   "cell_type": "markdown",
   "metadata": {},
   "source": [
    "# MQAM: Análise de variância ANOVA com dados do TMDB API\n",
    "Trabalho da disciplina de **MQAM(Métodos Quantitativos de Análise Multivariada)** cujo o objetivo é aplicar a técnica **ANOVA** sobre o dataset coletado durante a disciplina."
   ]
  }
 ],
 "metadata": {
  "kernelspec": {
   "display_name": "Python 3",
   "language": "python",
   "name": "python3"
  },
  "language_info": {
   "codemirror_mode": {
    "name": "ipython",
    "version": 3
   },
   "file_extension": ".py",
   "mimetype": "text/x-python",
   "name": "python",
   "nbconvert_exporter": "python",
   "pygments_lexer": "ipython3",
   "version": "3.12.4"
  }
 },
 "nbformat": 4,
 "nbformat_minor": 2
}
